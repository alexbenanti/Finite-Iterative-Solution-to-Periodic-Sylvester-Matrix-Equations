{
  "cells": [
    {
      "cell_type": "code",
      "execution_count": 1,
      "metadata": {
        "id": "XpJMhKsAJ15I"
      },
      "outputs": [],
      "source": [
        "import numpy as np\n",
        "import matplotlib.pyplot as plt\n",
        "from forward_utils import *\n",
        "from backward_utils import *\n",
        "from PSME_forward_algorithm import *\n",
        "from PSME_backward_algorithm import *"
      ]
    },
    {
      "cell_type": "markdown",
      "metadata": {
        "id": "jG77I8oHKsFQ"
      },
      "source": [
        "#Solving the Coupled Periodic Sylvester Equation Using an Iterative Scheme"
      ]
    },
    {
      "cell_type": "markdown",
      "metadata": {
        "id": "5hjmeV0JK0wK"
      },
      "source": [
        "##Set Up the Coupled Periodic Sylvester Equation"
      ]
    },
    {
      "cell_type": "markdown",
      "metadata": {
        "id": "QzlNDi6_K4-r"
      },
      "source": [
        "###Coefficient matrices for states $j=0,1,2$"
      ]
    },
    {
      "cell_type": "code",
      "execution_count": 2,
      "metadata": {
        "id": "Dpf43f-JK_A_"
      },
      "outputs": [],
      "source": [
        "A_0 = np.array([[2.7,0.9],\n",
        "                [-1.1,2.3]])\n",
        "\n",
        "A_1 = np.array([[4.2,1.3],\n",
        "                [-1.9,3.8]])\n",
        "\n",
        "A_2 = np.array([[6.1,3.8],\n",
        "                [-3.1,6.3]])\n",
        "\n",
        "B_0 = np.array([[1.5,-0.2],\n",
        "                [0.4,1]])\n",
        "\n",
        "B_1 = np.array([[2.1,-0.4],\n",
        "                [0.4,2]])\n",
        "\n",
        "B_2 = np.array([[3.1,-0.6],\n",
        "                [0.7,3.5]])\n",
        "\n",
        "C_0 = np.array([[13.2,10.6],\n",
        "                [0.6,8.4]])\n",
        "\n",
        "C_1 = np.array([[26.3,21.2],\n",
        "                [1.2,16.8]])\n",
        "\n",
        "C_2 = np.array([[38.6,32.1],\n",
        "                [1.6,24.2]])\n",
        "\n",
        "\n",
        "A_coefs = [A_0,A_1,A_2]\n",
        "\n",
        "B_coefs = [B_0,B_1,B_2]\n",
        "\n",
        "C_coefs = [C_0,C_1,C_2]\n"
      ]
    },
    {
      "cell_type": "markdown",
      "metadata": {
        "id": "Ph4US5RyLE9X"
      },
      "source": [
        "###True Solutions $X_j$ for states $j=0,1,2$"
      ]
    },
    {
      "cell_type": "code",
      "execution_count": 3,
      "metadata": {
        "id": "GlhhwIMqLEkP"
      },
      "outputs": [],
      "source": [
        "X_0_true = np.array([[2.2793996,2.1443471],\n",
        "                     [-0.0051931702, 2.8579759]])\n",
        "\n",
        "X_1_true = np.array([[3.8959223, 3.0173185],\n",
        "                     [0.91464058, 4.3687107]])\n",
        "\n",
        "X_2_true = np.array([[3.7974097, 2.1833681],\n",
        "                     [1.8075207, 3.3273581]])\n",
        "\n",
        "X_true_vals = [X_0_true, X_1_true, X_2_true]"
      ]
    },
    {
      "cell_type": "markdown",
      "metadata": {
        "id": "eQQhX_YeLMCr"
      },
      "source": [
        "###Initialize Guesses for $X_j$'s"
      ]
    },
    {
      "cell_type": "code",
      "execution_count": 4,
      "metadata": {
        "id": "6LQnyVhvLOts"
      },
      "outputs": [],
      "source": [
        "X_0_init = 10**(-16)*np.ones((2,2))\n",
        "\n",
        "X_1_init = 10**(-16)*np.ones((2,2))\n",
        "\n",
        "X_2_init = 10**(-16)*np.ones((2,2))\n",
        "\n",
        "X_guesses = [X_0_init, X_1_init,X_2_init]"
      ]
    },
    {
      "cell_type": "markdown",
      "metadata": {
        "id": "zCkG1_7BLfXN"
      },
      "source": [
        "##Conduct the Iterative Algorithm"
      ]
    },
    {
      "cell_type": "code",
      "execution_count": 5,
      "metadata": {
        "colab": {
          "base_uri": "https://localhost:8080/",
          "height": 474
        },
        "id": "rah4g2H5LRlY",
        "outputId": "fef984f1-e26b-4b58-9934-e47e18676692"
      },
      "outputs": [
        {
          "data": {
            "image/png": "[encoded data removed]",
            "text/plain": [
              "<Figure size 640x480 with 1 Axes>"
            ]
          },
          "metadata": {},
          "output_type": "display_data"
        }
      ],
      "source": [
        "deltas = forward_algorithm(A_coefs,B_coefs,C_coefs,X_guesses, X_true_vals, 3, 10e-12, 500)\n",
        "\n",
        "plot_error(deltas)"
      ]
    },
    {
      "cell_type": "markdown",
      "metadata": {
        "id": "OhxMD4TnPqET"
      },
      "source": [
        "#Solving the Backwards Sylvester Equations Using an Iterative Scheme"
      ]
    },
    {
      "cell_type": "markdown",
      "metadata": {
        "id": "N0w5QxpOPvEW"
      },
      "source": [
        "##Intialize the Problem (Using the Forward/Backward Equivalency of the PSME Equations)"
      ]
    },
    {
      "cell_type": "code",
      "execution_count": 6,
      "metadata": {
        "id": "Rr9DCf32PzJ4"
      },
      "outputs": [],
      "source": [
        "B_0 = np.array([[2.7,0.9],\n",
        "                [-1.1,2.3]]).T\n",
        "\n",
        "B_1 = np.array([[4.2,1.3],\n",
        "                [-1.9,3.8]]).T\n",
        "\n",
        "B_2 = np.array([[6.1,3.8],\n",
        "                [-3.1,6.3]]).T\n",
        "\n",
        "A_0 = np.array([[1.5,-0.2],\n",
        "                [0.4,1]]).T\n",
        "\n",
        "A_1 = np.array([[2.1,-0.4],\n",
        "                [0.4,2]]).T\n",
        "\n",
        "A_2 = np.array([[3.1,-0.6],\n",
        "                [0.7,3.5]]).T\n",
        "\n",
        "C_0 = np.array([[13.2,10.6],\n",
        "                [0.6,8.4]]).T\n",
        "\n",
        "C_1 = np.array([[26.3,21.2],\n",
        "                [1.2,16.8]]).T\n",
        "\n",
        "C_2 = np.array([[38.6,32.1],\n",
        "                [1.6,24.2]]).T\n",
        "\n",
        "\n",
        "A_coefs = [A_0,A_1,A_2]\n",
        "\n",
        "B_coefs = [B_0,B_1,B_2]\n",
        "\n",
        "C_coefs = [C_0,C_1,C_2]"
      ]
    },
    {
      "cell_type": "markdown",
      "metadata": {
        "id": "F1MyPPm1QxZ9"
      },
      "source": [
        "##True Solutions and Guesses for each $X_j$"
      ]
    },
    {
      "cell_type": "code",
      "execution_count": 7,
      "metadata": {
        "id": "RKctIfwRQydk"
      },
      "outputs": [],
      "source": [
        "X_0_true = np.array([[2.2793996,2.1443471],\n",
        "                     [-0.0051931702, 2.8579759]]).T\n",
        "\n",
        "X_1_true = np.array([[3.8959223, 3.0173185],\n",
        "                     [0.91464058, 4.3687107]]).T\n",
        "\n",
        "X_2_true = np.array([[3.7974097, 2.1833681],\n",
        "                     [1.8075207, 3.3273581]]).T\n",
        "\n",
        "X_true_vals = [X_0_true, X_1_true, X_2_true]\n",
        "\n",
        "X_0_init = 10**(-16)*np.ones((2,2))\n",
        "\n",
        "X_1_init = 10**(-16)*np.ones((2,2))\n",
        "\n",
        "X_2_init = 10**(-16)*np.ones((2,2))\n",
        "\n",
        "X_guesses = [X_0_init, X_1_init,X_2_init]"
      ]
    },
    {
      "cell_type": "markdown",
      "metadata": {
        "id": "baH6cIzsQ3xs"
      },
      "source": [
        "##Solve the Backwards Equations"
      ]
    },
    {
      "cell_type": "code",
      "execution_count": 8,
      "metadata": {
        "colab": {
          "base_uri": "https://localhost:8080/",
          "height": 474
        },
        "id": "7h6DfAT7UNAX",
        "outputId": "b0253429-ada5-4e4f-84c2-0028f915d7e2"
      },
      "outputs": [
        {
          "data": {
            "image/png": "[encoded data removed]",
            "text/plain": [
              "<Figure size 640x480 with 1 Axes>"
            ]
          },
          "metadata": {},
          "output_type": "display_data"
        }
      ],
      "source": [
        "deltas_2 = backward_algorithm(A_coefs,B_coefs,C_coefs,X_guesses, X_true_vals, 3, 10e-12, 500)\n",
        "\n",
        "plot_error_b(deltas_2)"
      ]
    },
    {
      "cell_type": "markdown",
      "metadata": {
        "id": "pvTn1MXRVRre"
      },
      "source": [
        "#Custom Example\n",
        "\n",
        "Now, we will create a custom example with $2\\times 2$ matrices. Since we don't have the solution to the problem, we will plot the results by examining the convergence of each element for each $X_j$. We will solve the forward periodic Sylvester Equation for this example and we don't need to examine the backwards equation since we have shown numerically (and analytically in the report) that the two are really the same:"
      ]
    },
    {
      "cell_type": "markdown",
      "metadata": {
        "id": "nxTH1sR_VWyj"
      },
      "source": [
        "##Initialize the Forward Problem\n",
        "\n",
        "For the initialization, we will randomize the initial $X_j$ guesses instead of starting them all at zero so we can observe that our algorithm is consistent."
      ]
    },
    {
      "cell_type": "code",
      "execution_count": 9,
      "metadata": {
        "id": "cLUcLxMWVb4b"
      },
      "outputs": [],
      "source": [
        "A_0 = np.array([[1.3,0.4],\n",
        "                [-0.4,4.5]])\n",
        "\n",
        "A_1 = np.array([[5.2,2.1],\n",
        "                [-2,5.6]])\n",
        "\n",
        "A_2 = np.array([[6.8,4.1],\n",
        "                [-2.9,7.3]])\n",
        "\n",
        "B_0 = np.array([[0.8,-0.1],\n",
        "                [0.7,1.7]])\n",
        "\n",
        "B_1 = np.array([[2.5,-0.9],\n",
        "                [1,2.4]])\n",
        "\n",
        "B_2 = np.array([[3.6,-0.2],\n",
        "                [0.9,3.7]])\n",
        "\n",
        "C_0 = np.array([[15.7,14.2],\n",
        "                [0.3,5.7]])\n",
        "\n",
        "C_1 = np.array([[34.2,23.6],\n",
        "                [1.7,16.7]])\n",
        "\n",
        "C_2 = np.array([[32.4,28.3],\n",
        "                [2.1,19.9]])\n",
        "\n",
        "\n",
        "A_coefs = [A_0,A_1,A_2]\n",
        "\n",
        "B_coefs = [B_0,B_1,B_2]\n",
        "\n",
        "C_coefs = [C_0,C_1,C_2]\n",
        "\n",
        "X_0_init = 3*np.random.rand(2,2)\n",
        "\n",
        "X_1_init = 3*np.random.rand(2,2)\n",
        "\n",
        "X_2_init = 3*np.random.rand(2,2)\n",
        "\n",
        "X_guesses = [X_0_init, X_1_init,X_2_init]"
      ]
    }
  ],
  "metadata": {
    "colab": {
      "provenance": []
    },
    "interpreter": {
      "hash": "082e9a3bcad0a290d0001e938aa60b99250c6c2ef33a923c00b70f9826caf4b7"
    },
    "kernelspec": {
      "display_name": "Python 3.8.5 64-bit",
      "name": "python3"
    },
    "language_info": {
      "name": "python",
      "version": ""
    }
  },
  "nbformat": 4,
  "nbformat_minor": 0
}